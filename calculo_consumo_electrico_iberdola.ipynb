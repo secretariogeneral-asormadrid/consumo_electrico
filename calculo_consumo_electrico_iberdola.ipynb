{
  "cells": [
    {
      "cell_type": "markdown",
      "metadata": {},
      "source": [
        "Importamos los modulos python necesarios:"
      ]
    },
    {
      "cell_type": "code",
      "execution_count": 35,
      "metadata": {},
      "outputs": [],
      "source": [
        "from datetime import datetime, timedelta\n",
        "import calendar\n",
        "import argparse\n"
      ]
    },
    {
      "cell_type": "markdown",
      "metadata": {},
      "source": [
        "Definimos el consumo en kw y el mes"
      ]
    },
    {
      "cell_type": "code",
      "execution_count": 36,
      "metadata": {},
      "outputs": [],
      "source": [
        "mes = 6\n",
        "consumo_dispositivo = 0.105 #105W = 0.105 kW"
      ]
    },
    {
      "cell_type": "markdown",
      "metadata": {},
      "source": [
        "Definimos los porcentajes de los impuestos:"
      ]
    },
    {
      "cell_type": "code",
      "execution_count": 37,
      "metadata": {},
      "outputs": [],
      "source": [
        "porcentaje_impuesto_electrico = 0.051127  # 5,1127%\n",
        "porcentaje_iva = 0.21                     # 21%"
      ]
    },
    {
      "cell_type": "markdown",
      "metadata": {},
      "source": [
        "Definimos las estaciones, horarios y los dias festivos (en este ejemplo los de 2025)"
      ]
    },
    {
      "cell_type": "code",
      "execution_count": null,
      "metadata": {},
      "outputs": [],
      "source": [
        "estaciones = {\n",
        "    'alta': [1, 2, 7, 12], # Temporada alta: meses con mayor consumo electrico: Enero, Febrero y Diciembre por la calefacción, Julio por el Aire Acondicionado\n",
        "    'media-alta': [3, 11],\n",
        "    'media': [6, 8, 9],\n",
        "    'baja': [4, 5, 10]\n",
        "}\n",
        "horarios = { # indican que horas aplica las tarifas en cada estación\n",
        "    'alta': {\n",
        "        'P6': [(0, 8)],\n",
        "        'P1': [(9, 14), (18, 22)],\n",
        "        'P2': [(8, 9), (14, 18), (22, 24)]\n",
        "    },\n",
        "    'media-alta': {\n",
        "        'P6': [(0, 8)],\n",
        "        'P2': [(9, 14), (18, 22)],\n",
        "        'P3': [(8, 9), (14, 18), (22, 24)]\n",
        "    },\n",
        "    'media': {\n",
        "        'P6': [(0, 8)],\n",
        "        'P3': [(9, 14), (18, 22)],\n",
        "        'P4': [(8, 9), (14, 18), (22, 24)]\n",
        "    },\n",
        "    'baja': {\n",
        "        'P6': [(0, 8)],\n",
        "        'P4': [(9, 14), (18, 22)],\n",
        "        'P5': [(8, 9), (14, 18), (22, 24)]\n",
        "    }\n",
        "}\n",
        "festivos = [\n",
        "    datetime(2025,1,1),    # Año Nuevo\n",
        "    datetime(2025,1,6),    # Reyes\n",
        "    datetime(2025,4,17),   # Jueves Santo\n",
        "    datetime(2025,4,18),   # Viernes Santo\n",
        "    datetime(2025,5,1),    # Día del Trabajo\n",
        "    datetime(2025,5,2),    # Comunidad de Madrid\n",
        "    datetime(2025,5,15),   # San Isidro (local)\n",
        "    datetime(2025,7,25),   # Santiago Apóstol\n",
        "    datetime(2025,8,15),   # Asunción\n",
        "    datetime(2025,11,1),   # Todos los Santos\n",
        "    datetime(2025,11,10),  # Almudena (local trasladado)\n",
        "    datetime(2025,12,6),   # Constitución\n",
        "    datetime(2025,12,8),   # Inmaculada\n",
        "    datetime(2025,12,25)   # Navidad\n",
        "]"
      ]
    },
    {
      "cell_type": "markdown",
      "metadata": {},
      "source": [
        "Las tarifas de nuestra compania electrica (en este caso las de iberdola del año 2025):"
      ]
    },
    {
      "cell_type": "code",
      "execution_count": 39,
      "metadata": {},
      "outputs": [],
      "source": [
        "config = {\n",
        "    'potencia_kw': 50,\n",
        "    'precios_kwh': {'P1': 0.251102, 'P2': 0.227589, 'P3': 0, 'P4': 0, 'P5': 0, 'P6': 0.185546},\n",
        "    'precios_potencia': {'P1': 0.062459, 'P2': 0.032716, 'P3': 0.014489, \n",
        "                        'P4': 0.012677, 'P5': 0.013355, 'P6': 0.01076}\n",
        "}"
      ]
    },
    {
      "cell_type": "markdown",
      "metadata": {},
      "source": [
        "La clase para calcular la tarifa 30TD"
      ]
    },
    {
      "cell_type": "code",
      "execution_count": 40,
      "metadata": {},
      "outputs": [],
      "source": [
        "class Tarifa30TD:\n",
        "    def __init__(self, potencia_kw, precios_kwh, precios_potencia):\n",
        "        self.potencia_kw = potencia_kw\n",
        "        self.precios_kwh = precios_kwh  # Dict P1-P6\n",
        "        self.precios_potencia = precios_potencia  # Dict P1-P6\n",
        "        # Festivos 2025 para Madrid (nacionales + autonómicos + locales)\n",
        "    def determinar_estacion(self, fecha):\n",
        "        _mes = fecha.month\n",
        "        for estacion, meses in estaciones.items():\n",
        "            if _mes in meses:\n",
        "                return estacion\n",
        "        return 'baja'\n",
        "\n",
        "    def es_finde_o_festivo(self, fecha):\n",
        "        # Verifica si es fin de semana o festivo\n",
        "        if fecha.weekday() >= 5:  # Sábado=5, Domingo=6\n",
        "            return True\n",
        "        return any(fecha.date() == festivo.date() for festivo in festivos)\n",
        "\n",
        "    def _dias_en_mes(self, fecha):\n",
        "        año = fecha.year\n",
        "        mes = fecha.month\n",
        "        _, num_dias = calendar.monthrange(año, mes)\n",
        "        return num_dias\n",
        "        \n",
        "    def calcular_consumo(self, fecha_inicio, consumo_horario_kwh):\n",
        "\n",
        "        consumo = {f'P{i}': 0 for i in range(1,7)}\n",
        "        dias = self._dias_en_mes(fecha_inicio)\n",
        "        for dia in range(dias):\n",
        "            fecha = fecha_inicio + timedelta(days=dia)\n",
        "            if self.es_finde_o_festivo(fecha):\n",
        "                consumo['P6'] += 24 * consumo_horario_kwh\n",
        "                continue\n",
        "            estacion = self.determinar_estacion(fecha)\n",
        "            for periodo, tramos in horarios[estacion].items():\n",
        "                for tramo in tramos:\n",
        "                    horas = min(tramo[1], 24) - max(tramo[0], 0)\n",
        "                    consumo[periodo] += horas * consumo_horario_kwh\n",
        "        return consumo\n",
        "\n",
        "    def calcular_coste(self, consumo):\n",
        "        # Coste energía\n",
        "        coste_energia = sum(consumo[p] * self.precios_kwh[p] for p in consumo)\n",
        "        \n",
        "        # De momento ignorar calculo potencia, nos centramos el calculo del consumo de solo un dispositivo\n",
        "        # dias = self._dias_en_mes(fecha)\n",
        "        # Coste potencia (según factura)\n",
        "        # coste_potencia = sum(self.potencia_kw * dias * self.precios_potencia[p] \n",
        "        #                    for p in ['P1', 'P2', 'P3', 'P4', 'P5', 'P6'])\n",
        "        coste_potencia = 0\n",
        "\n",
        "        # Impuestos\n",
        "        impuesto_electrico = (coste_energia + coste_potencia) * porcentaje_impuesto_electrico\n",
        "        iva = (coste_energia + coste_potencia + impuesto_electrico) * porcentaje_iva\n",
        "        \n",
        "        return {\n",
        "            'consumo_kwh': consumo,\n",
        "            'coste_energia': coste_energia,\n",
        "            'coste_potencia': coste_potencia,\n",
        "            'impuesto_electrico': impuesto_electrico,\n",
        "            'iva': iva,\n",
        "            'total': coste_energia + coste_potencia + impuesto_electrico + iva\n",
        "        }"
      ]
    },
    {
      "cell_type": "markdown",
      "metadata": {},
      "source": [
        "Hacemos el calculo:"
      ]
    },
    {
      "cell_type": "code",
      "execution_count": 41,
      "metadata": {},
      "outputs": [],
      "source": [
        "tarifa = Tarifa30TD(**config)\n",
        "consumo = tarifa.calcular_consumo(datetime(2025,mes,1), consumo_dispositivo)\n",
        "resultado = tarifa.calcular_coste(consumo)"
      ]
    },
    {
      "cell_type": "markdown",
      "metadata": {},
      "source": [
        "Imprimimos los resultados:"
      ]
    },
    {
      "cell_type": "code",
      "execution_count": 42,
      "metadata": {},
      "outputs": [
        {
          "name": "stdout",
          "output_type": "stream",
          "text": [
            "Consumo por periodo (kWh):\n",
            "P1: 0.00 kWh\n",
            "P2: 0.00 kWh\n",
            "P3: 19.85 kWh\n",
            "P4: 15.44 kWh\n",
            "P5: 0.00 kWh\n",
            "P6: 40.32 kWh\n",
            "Coste total: 9.52€\n",
            "\n",
            "Desglose:\n",
            "- Energía: 7.48€\n",
            "- Impuesto eléctrico: 0.38€\n",
            "- IVA: 1.65€\n"
          ]
        }
      ],
      "source": [
        "print(f\"Consumo por periodo (kWh):\")\n",
        "for p, v in resultado['consumo_kwh'].items():\n",
        "    print(f\"{p}: {v:.2f} kWh\")\n",
        "\n",
        "print(f\"Coste total: {resultado['total']:.2f}€\")\n",
        "print(f\"\\nDesglose:\")\n",
        "print(f\"- Energía: {resultado['coste_energia']:.2f}€\")\n",
        "# print(f\"- Potencia: {resultado['coste_potencia']:.2f}€\")\n",
        "print(f\"- Impuesto eléctrico: {resultado['impuesto_electrico']:.2f}€\")\n",
        "print(f\"- IVA: {resultado['iva']:.2f}€\")\n"
      ]
    }
  ],
  "metadata": {
    "kernelspec": {
      "display_name": ".venv",
      "language": "python",
      "name": "python3"
    },
    "language_info": {
      "codemirror_mode": {
        "name": "ipython",
        "version": 3
      },
      "file_extension": ".py",
      "mimetype": "text/x-python",
      "name": "python",
      "nbconvert_exporter": "python",
      "pygments_lexer": "ipython3",
      "version": "3.11.2"
    }
  },
  "nbformat": 4,
  "nbformat_minor": 2
}
